{
 "cells": [
  {
   "cell_type": "code",
   "execution_count": null,
   "id": "9ed6a65c",
   "metadata": {},
   "outputs": [],
   "source": [
    "# --- Data Handling ---\n",
    "import pandas as pd\n",
    "import numpy as np\n",
    "import os\n",
    "\n",
    "# --- Data Visualization ---\n",
    "import matplotlib.pyplot as plt\n",
    "import seaborn as sns\n",
    "\n",
    "# --- Data Preprocessing ---\n",
    "from sklearn.model_selection import train_test_split\n",
    "from sklearn.preprocessing import StandardScaler\n",
    "\n",
    "# --- To Save The Processed Data ---\n",
    "import joblib\n",
    "\n",
    "# Set some display options for pandas and seaborn for better visualization\n",
    "pd.set_option('display.max_columns', None)\n",
    "sns.set_style('whitegrid')\n",
    "\n",
    "print(\"Libraries imported successfully!\")"
   ]
  },
  {
   "cell_type": "code",
   "execution_count": null,
   "id": "90fa19fd",
   "metadata": {},
   "outputs": [],
   "source": [
    "# Define the path to the raw data file\n",
    "# Using os.path.join is a good practice as it works across different operating systems\n",
    "RAW_DATA_PATH = os.path.join(\"..\", \"data\", \"heart_disease\", \"raw\", \"heart_failure_clinical_records_dataset.csv\")\n",
    "\n",
    "# Load the dataset\n",
    "df = pd.read_csv(RAW_DATA_PATH)\n",
    "\n",
    "print(\"Data loaded successfully!\")"
   ]
  },
  {
   "cell_type": "code",
   "execution_count": null,
   "id": "f82e9f3e",
   "metadata": {},
   "outputs": [],
   "source": [
    "# Display the first 5 rows to see what the data looks like\n",
    "print(\"First 5 rows of the dataset:\")\n",
    "display(df.head())\n",
    "\n",
    "# Get a concise summary of the dataframe, including data types and non-null values\n",
    "print(\"\\nDataset Information:\")\n",
    "df.info()\n",
    "\n",
    "# Get descriptive statistics for each numerical column\n",
    "print(\"\\nDescriptive Statistics:\")\n",
    "display(df.describe())"
   ]
  },
  {
   "cell_type": "code",
   "execution_count": null,
   "id": "f394c2a6",
   "metadata": {},
   "outputs": [],
   "source": [
    "# Check the distribution of our target variable\n",
    "print(df['DEATH_EVENT'].value_counts(normalize=True))\n",
    "\n",
    "# Visualize the distribution\n",
    "sns.countplot(x='DEATH_EVENT', data=df)\n",
    "plt.title('Distribution of Death Events (0 = Survived, 1 = Died)')\n",
    "plt.show()"
   ]
  },
  {
   "cell_type": "code",
   "execution_count": null,
   "id": "2d2980ce",
   "metadata": {},
   "outputs": [],
   "source": [
    "# Create a figure with multiple subplots\n",
    "fig, axes = plt.subplots(2, 3, figsize=(18, 10))\n",
    "fig.suptitle('Feature Distributions by Death Event', fontsize=16)\n",
    "\n",
    "# Age vs. Death Event\n",
    "sns.boxplot(ax=axes[0, 0], x='DEATH_EVENT', y='age', data=df)\n",
    "axes[0, 0].set_title('Age')\n",
    "\n",
    "# Ejection Fraction vs. Death Event\n",
    "sns.boxplot(ax=axes[0, 1], x='DEATH_EVENT', y='ejection_fraction', data=df)\n",
    "axes[0, 1].set_title('Ejection Fraction')\n",
    "\n",
    "# Serum Creatinine vs. Death Event\n",
    "sns.boxplot(ax=axes[0, 2], x='DEATH_EVENT', y='serum_creatinine', data=df)\n",
    "axes[0, 2].set_title('Serum Creatinine')\n",
    "\n",
    "# Time vs. Death Event\n",
    "sns.boxplot(ax=axes[1, 0], x='DEATH_EVENT', y='time', data=df)\n",
    "axes[1, 0].set_title('Follow-up Time (days)')\n",
    "\n",
    "# Serum Sodium vs. Death Event\n",
    "sns.boxplot(ax=axes[1, 1], x='DEATH_EVENT', y='serum_sodium', data=df)\n",
    "axes[1, 1].set_title('Serum Sodium')\n",
    "\n",
    "# Platelets vs. Death Event\n",
    "sns.boxplot(ax=axes[1, 2], x='DEATH_EVENT', y='platelets', data=df)\n",
    "axes[1, 2].set_title('Platelets')\n",
    "\n",
    "\n",
    "plt.tight_layout(rect=[0, 0.03, 1, 0.95])\n",
    "plt.show()"
   ]
  },
  {
   "cell_type": "code",
   "execution_count": null,
   "id": "b2af1add",
   "metadata": {},
   "outputs": [],
   "source": [
    "plt.figure(figsize=(12, 10))\n",
    "sns.heatmap(df.corr(), annot=True, cmap='coolwarm', fmt=\".2f\")\n",
    "plt.title('Correlation Matrix of All Features')\n",
    "plt.show()"
   ]
  },
  {
   "cell_type": "code",
   "execution_count": null,
   "id": "7314e0d2",
   "metadata": {},
   "outputs": [],
   "source": [
    "X = df.drop('DEATH_EVENT', axis=1)\n",
    "y = df['DEATH_EVENT']"
   ]
  },
  {
   "cell_type": "code",
   "execution_count": null,
   "id": "7eb1f9d8",
   "metadata": {},
   "outputs": [],
   "source": [
    "# Split the data into 80% training and 20% testing\n",
    "X_train, X_test, y_train, y_test = train_test_split(\n",
    "    X, y, test_size=0.2, random_state=42, stratify=y\n",
    ")\n",
    "\n",
    "print(f\"Training set shape: {X_train.shape}\")\n",
    "print(f\"Testing set shape: {X_test.shape}\")"
   ]
  },
  {
   "cell_type": "code",
   "execution_count": null,
   "id": "49524152",
   "metadata": {},
   "outputs": [],
   "source": [
    "scaler = StandardScaler()\n",
    "\n",
    "# Fit the scaler on the training data and transform it\n",
    "X_train_scaled = scaler.fit_transform(X_train)\n",
    "\n",
    "# Transform the test data using the SAME scaler\n",
    "X_test_scaled = scaler.transform(X_test)\n",
    "\n",
    "# For convenience, let's put the scaled data back into pandas DataFrames\n",
    "X_train = pd.DataFrame(X_train_scaled, columns=X.columns)\n",
    "X_test = pd.DataFrame(X_test_scaled, columns=X.columns)\n",
    "\n",
    "print(\"\\nFirst 5 rows of the scaled training data:\")\n",
    "display(X_train.head())"
   ]
  },
  {
   "cell_type": "code",
   "execution_count": null,
   "id": "f339088f",
   "metadata": {},
   "outputs": [],
   "source": [
    "# Define paths for processed data\n",
    "PROCESSED_DATA_DIR = os.path.join(\"..\", \"data\", \"heart_disease\", \"processed\")\n",
    "SCALER_PATH = os.path.join(\"..\", \"models\", \"heart_disease\",  \"scaler.joblib\")\n",
    "\n",
    "# Create the directories if they don't exist\n",
    "os.makedirs(PROCESSED_DATA_DIR, exist_ok=True)\n",
    "os.makedirs(os.path.dirname(SCALER_PATH), exist_ok=True)\n",
    "\n",
    "\n",
    "# Save the data sets\n",
    "joblib.dump(X_train, os.path.join(PROCESSED_DATA_DIR, \"X_train.joblib\"))\n",
    "joblib.dump(X_test, os.path.join(PROCESSED_DATA_DIR, \"X_test.joblib\"))\n",
    "joblib.dump(y_train, os.path.join(PROCESSED_DATA_DIR, \"y_train.joblib\"))\n",
    "joblib.dump(y_test, os.path.join(PROCESSED_DATA_DIR, \"y_test.joblib\"))\n",
    "\n",
    "# Save the scaler\n",
    "joblib.dump(scaler, SCALER_PATH)\n",
    "\n",
    "print(\"\\nProcessed data and scaler saved successfully!\")"
   ]
  }
 ],
 "metadata": {
  "kernelspec": {
   "display_name": "venv",
   "language": "python",
   "name": "python3"
  },
  "language_info": {
   "codemirror_mode": {
    "name": "ipython",
    "version": 3
   },
   "file_extension": ".py",
   "mimetype": "text/x-python",
   "name": "python",
   "nbconvert_exporter": "python",
   "pygments_lexer": "ipython3",
   "version": "3.13.5"
  }
 },
 "nbformat": 4,
 "nbformat_minor": 5
}
